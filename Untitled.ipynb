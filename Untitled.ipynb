{
 "cells": [
  {
   "cell_type": "markdown",
   "id": "6ef5ce44",
   "metadata": {},
   "source": [
    "# 1.Split this string"
   ]
  },
  {
   "cell_type": "code",
   "execution_count": 3,
   "id": "e376f5c3",
   "metadata": {},
   "outputs": [
    {
     "name": "stdout",
     "output_type": "stream",
     "text": [
      "['Hi', 'how', 'are', 'you']\n"
     ]
    }
   ],
   "source": [
    "str=\"Hi how are you\"\n",
    "print(str.split())"
   ]
  },
  {
   "cell_type": "markdown",
   "id": "ffea246a",
   "metadata": {},
   "source": [
    "## 2.Use .format() to print the following string bold text"
   ]
  },
  {
   "cell_type": "code",
   "execution_count": 4,
   "id": "49b63199",
   "metadata": {},
   "outputs": [
    {
     "name": "stdout",
     "output_type": "stream",
     "text": [
      "The diameter of Earthis12743kilometers\n"
     ]
    }
   ],
   "source": [
    "planet = \"Earth\"\n",
    "diameter = 12743\n",
    "a=\"The diameter of {planet}is{diameter}kilometers\"\n",
    "print(a.format(planet=\"Earth\",diameter=12743))"
   ]
  },
  {
   "cell_type": "markdown",
   "id": "edf96066",
   "metadata": {},
   "source": [
    "## 3.In this nest dictionary grab the word \"hello\""
   ]
  },
  {
   "cell_type": "code",
   "execution_count": 5,
   "id": "6554c81f",
   "metadata": {},
   "outputs": [
    {
     "name": "stdout",
     "output_type": "stream",
     "text": [
      "{'k1': [1, 2, 3, {'nicky': ['oh', 'women', 'inception', {'target': [1, 2, 3, 'hello']}]}]}\n"
     ]
    }
   ],
   "source": [
    "d={'k1':[1,2,3,{'nicky':['oh','women','inception',{'target':[1,2,3,'hello']}]}]}\n",
    "print(d)"
   ]
  },
  {
   "cell_type": "markdown",
   "id": "321f1eeb",
   "metadata": {},
   "source": [
    "## 4.Numpy"
   ]
  },
  {
   "cell_type": "markdown",
   "id": "6ce33b75",
   "metadata": {},
   "source": [
    "## 4.1 Create an array of 10 zeros?"
   ]
  },
  {
   "cell_type": "code",
   "execution_count": 6,
   "id": "99ebc593",
   "metadata": {},
   "outputs": [
    {
     "name": "stdout",
     "output_type": "stream",
     "text": [
      "[0. 0. 0. 0. 0. 0. 0. 0. 0. 0.]\n"
     ]
    }
   ],
   "source": [
    "import numpy as np\n",
    "c=np.zeros(10)*0\n",
    "print(c)"
   ]
  },
  {
   "cell_type": "markdown",
   "id": "50cea88c",
   "metadata": {},
   "source": [
    "## 4.2 Create an array of 10 fives?"
   ]
  },
  {
   "cell_type": "code",
   "execution_count": 7,
   "id": "200c3e4c",
   "metadata": {},
   "outputs": [
    {
     "name": "stdout",
     "output_type": "stream",
     "text": [
      "[5. 5. 5. 5. 5. 5. 5. 5. 5. 5.]\n"
     ]
    }
   ],
   "source": [
    "c=np.ones(10)*5\n",
    "print(c)"
   ]
  },
  {
   "cell_type": "markdown",
   "id": "15ebd283",
   "metadata": {},
   "source": [
    "## 5. Create an array of all the even integers from 25 to 40"
   ]
  },
  {
   "cell_type": "code",
   "execution_count": 8,
   "id": "de19e916",
   "metadata": {},
   "outputs": [
    {
     "name": "stdout",
     "output_type": "stream",
     "text": [
      "[25 27 29 31 33 35 37 39]\n"
     ]
    }
   ],
   "source": [
    "arr=np.arange(25,40,2)\n",
    "print(arr)"
   ]
  },
  {
   "cell_type": "markdown",
   "id": "07b76f3c",
   "metadata": {},
   "source": [
    "## 6. Create a 3x3 matrix with values ranging from 0 to 8"
   ]
  },
  {
   "cell_type": "code",
   "execution_count": 9,
   "id": "e478492a",
   "metadata": {},
   "outputs": [
    {
     "name": "stdout",
     "output_type": "stream",
     "text": [
      "[[0 1 2]\n",
      " [3 4 5]\n",
      " [6 7 8]]\n"
     ]
    }
   ],
   "source": [
    "a=np.arange(0,9).reshape(3,3)\n",
    "print(a)"
   ]
  },
  {
   "cell_type": "markdown",
   "id": "ec1ab26d",
   "metadata": {},
   "source": [
    "## 7. Concatenate x and y"
   ]
  },
  {
   "cell_type": "code",
   "execution_count": 10,
   "id": "f8f20610",
   "metadata": {},
   "outputs": [
    {
     "name": "stdout",
     "output_type": "stream",
     "text": [
      "[0 1 2 3 4 5]\n"
     ]
    }
   ],
   "source": [
    "ar1=np.array([0,1,2])\n",
    "ar2=np.array([3,4,5])\n",
    "ar=np.concatenate((ar1,ar2))\n",
    "print(ar)"
   ]
  },
  {
   "cell_type": "markdown",
   "id": "61f3ef1f",
   "metadata": {},
   "source": [
    "## Pandas"
   ]
  },
  {
   "cell_type": "markdown",
   "id": "742c4517",
   "metadata": {},
   "source": [
    "## 8.Create a dataframe with 4 rows and 3 columns"
   ]
  },
  {
   "cell_type": "code",
   "execution_count": 11,
   "id": "7abf0c34",
   "metadata": {},
   "outputs": [
    {
     "name": "stdout",
     "output_type": "stream",
     "text": [
      "    x   y\n",
      "0  11  40\n",
      "1  50  20\n",
      "2  70  65\n"
     ]
    }
   ],
   "source": [
    "import pandas as pd\n",
    "data=[{'x':11,'y':40},{'x':50,'y':20},{'x':70,'y':65}]\n",
    "df=pd.DataFrame(data)\n",
    "print(df)"
   ]
  },
  {
   "cell_type": "markdown",
   "id": "924dace6",
   "metadata": {},
   "source": [
    "## 9. Generate the series of dates from 1st Jan, 2023 to 14th Feb, 2023"
   ]
  },
  {
   "cell_type": "code",
   "execution_count": 12,
   "id": "8de4feda",
   "metadata": {},
   "outputs": [
    {
     "name": "stdout",
     "output_type": "stream",
     "text": [
      "DatetimeIndex(['2023-01-01', '2023-01-02', '2023-01-03', '2023-01-04',\n",
      "               '2023-01-05', '2023-01-06', '2023-01-07', '2023-01-08',\n",
      "               '2023-01-09', '2023-01-10', '2023-01-11', '2023-01-12',\n",
      "               '2023-01-13', '2023-01-14', '2023-01-15', '2023-01-16',\n",
      "               '2023-01-17', '2023-01-18', '2023-01-19', '2023-01-20',\n",
      "               '2023-01-21', '2023-01-22', '2023-01-23', '2023-01-24',\n",
      "               '2023-01-25', '2023-01-26', '2023-01-27', '2023-01-28',\n",
      "               '2023-01-29', '2023-01-30', '2023-01-31', '2023-02-01',\n",
      "               '2023-02-02', '2023-02-03', '2023-02-04', '2023-02-05',\n",
      "               '2023-02-06', '2023-02-07', '2023-02-08', '2023-02-09',\n",
      "               '2023-02-10', '2023-02-11', '2023-02-12', '2023-02-13',\n",
      "               '2023-02-14'],\n",
      "              dtype='datetime64[ns]', freq='D')\n"
     ]
    }
   ],
   "source": [
    "c=pd.date_range(start='1/1/2023',end='14/2/2023')\n",
    "print(c)"
   ]
  },
  {
   "cell_type": "markdown",
   "id": "f6121cc3",
   "metadata": {},
   "source": [
    "## 10. Create 2D list to DataFrame"
   ]
  },
  {
   "cell_type": "code",
   "execution_count": 17,
   "id": "1b5a1b6e",
   "metadata": {},
   "outputs": [
    {
     "name": "stdout",
     "output_type": "stream",
     "text": [
      "   0   1   2\n",
      "0  1  aa  22\n",
      "1  2  bb  24\n",
      "2  3  cc  23\n"
     ]
    }
   ],
   "source": [
    "lt=[[1,'aa',22],[2,'bb',24],[3,'cc',23]]\n",
    "df=pd.DataFrame(lt)\n",
    "print(df)"
   ]
  }
 ],
 "metadata": {
  "kernelspec": {
   "display_name": "Python 3 (ipykernel)",
   "language": "python",
   "name": "python3"
  },
  "language_info": {
   "codemirror_mode": {
    "name": "ipython",
    "version": 3
   },
   "file_extension": ".py",
   "mimetype": "text/x-python",
   "name": "python",
   "nbconvert_exporter": "python",
   "pygments_lexer": "ipython3",
   "version": "3.9.12"
  }
 },
 "nbformat": 4,
 "nbformat_minor": 5
}
